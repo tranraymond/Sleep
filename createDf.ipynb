{
 "cells": [
  {
   "cell_type": "code",
   "execution_count": 15,
   "metadata": {},
   "outputs": [],
   "source": [
    "import os\n",
    "import zipfile\n",
    "import shutil\n",
    "import pandas as pd"
   ]
  },
  {
   "cell_type": "code",
   "execution_count": 8,
   "metadata": {},
   "outputs": [
    {
     "name": "stdin",
     "output_type": "stream",
     "text": [
      "Copy and paste the name of your zip file: poop\n"
     ]
    },
    {
     "name": "stdout",
     "output_type": "stream",
     "text": [
      "That doesn't exist, try again.\n"
     ]
    },
    {
     "name": "stdin",
     "output_type": "stream",
     "text": [
      "Copy and paste the name of your zip file: 20Jun26 - Selena_Fitbit_Data_Export.zip\n"
     ]
    },
    {
     "name": "stdout",
     "output_type": "stream",
     "text": [
      "This is a valid zip file.\n",
      "All unzipped and undone for you.\n"
     ]
    }
   ],
   "source": [
    "while True:\n",
    "    zipName = input('Copy and paste the name of your zip file:')\n",
    "    if os.path.exists(zipName):\n",
    "        print('This is a valid zip file.')\n",
    "        with zipfile.ZipFile(zipName, 'r') as zip_ref:\n",
    "            zip_ref.extractall() \n",
    "            print('All unzipped and undone for you.')\n",
    "            break\n",
    "    else:\n",
    "        print('That doesn\\'t exist, try again.')"
   ]
  },
  {
   "cell_type": "code",
   "execution_count": 12,
   "metadata": {},
   "outputs": [
    {
     "name": "stdin",
     "output_type": "stream",
     "text": [
      "Copy and paste the name of the main folder than was extracted: poop\n"
     ]
    },
    {
     "name": "stdout",
     "output_type": "stream",
     "text": [
      "That doesn't seem right... try again.\n"
     ]
    },
    {
     "name": "stdin",
     "output_type": "stream",
     "text": [
      "Copy and paste the name of the main folder than was extracted: SelenaDirven\n"
     ]
    },
    {
     "name": "stdout",
     "output_type": "stream",
     "text": [
      "Parsing 1061 files for unique types of data.\n",
      "Found16 unique types of data.\n",
      "badge.json\n",
      "calories\n",
      "demographic_vo2_max\n",
      "distance\n",
      "exercise\n",
      "heart_rate\n",
      "height\n",
      "lightly_active_minutes\n",
      "moderately_active_minutes\n",
      "resting_heart_rate\n",
      "sedentary_minutes\n",
      "sleep\n",
      "steps\n",
      "time_in_heart_rate_zones\n",
      "very_active_minutes\n",
      "weight\n"
     ]
    }
   ],
   "source": [
    "while True:\n",
    "    extractFile = input('Copy and paste the name of the main folder than was extracted:')\n",
    "    if os.path.exists(f\"./\"+extractFile+\"/user-site-export\"):\n",
    "        myPath = f\"./\"+extractFile+\"/user-site-export/\"\n",
    "        filenames = os.listdir(myPath)\n",
    "        print(f\"Parsing {len(filenames)} files for unique types of data.\")\n",
    "        unique_filenames = set()\n",
    "        for f in filenames:\n",
    "            unique_filenames.add(f.split(\"-\")[0])\n",
    "        print(f\"Found \" + str(len(unique_filenames))+\" unique types of data.\")\n",
    "        for name in sorted(unique_filenames):\n",
    "            print(name)\n",
    "        break\n",
    "    else:\n",
    "        print('That doesn\\'t seem right... try again.')"
   ]
  },
  {
   "cell_type": "code",
   "execution_count": 13,
   "metadata": {},
   "outputs": [
    {
     "name": "stdin",
     "output_type": "stream",
     "text": [
      "Enter name: poop\n"
     ]
    },
    {
     "name": "stdout",
     "output_type": "stream",
     "text": [
      "Copied the data in poop for you.\n"
     ]
    }
   ],
   "source": [
    "myName = input('Enter name:')\n",
    "if os.path.exists(myName):\n",
    "    print('This exists!')\n",
    "else:\n",
    "    shutil.copytree(myPath, myName)\n",
    "    print('Copied the data in '+myName+' for you.')"
   ]
  },
  {
   "cell_type": "code",
   "execution_count": 16,
   "metadata": {},
   "outputs": [
    {
     "name": "stdout",
     "output_type": "stream",
     "text": [
      "Working on:\n",
      "sleep-2018-12-24.json\n",
      "sleep-2019-01-23.json\n",
      "sleep-2019-02-22.json\n",
      "sleep-2019-03-24.json\n",
      "sleep-2019-04-23.json\n",
      "sleep-2019-05-23.json\n",
      "sleep-2019-06-22.json\n",
      "sleep-2019-07-22.json\n",
      "sleep-2019-08-21.json\n",
      "sleep-2019-09-20.json\n",
      "sleep-2019-10-20.json\n",
      "sleep-2019-11-19.json\n",
      "sleep-2019-12-19.json\n",
      "sleep-2020-01-18.json\n",
      "sleep-2020-02-17.json\n",
      "sleep-2020-03-18.json\n",
      "sleep-2020-04-17.json\n",
      "sleep-2020-05-17.json\n",
      "sleep-2020-06-16.json\n"
     ]
    }
   ],
   "source": [
    "jsondf = []\n",
    "print('Working on:')\n",
    "count=0\n",
    "for file in os.listdir(myName):\n",
    "    if file.startswith('sleep'):\n",
    "        print(file)\n",
    "        jsondf.append(pd.read_json(myName+\"/\"+file))\n",
    "    count += 1\n",
    "df = pd.concat(jsondf)"
   ]
  },
  {
   "cell_type": "code",
   "execution_count": 17,
   "metadata": {},
   "outputs": [],
   "source": [
    "with open(myName+\".csv\", \"w\") as df_csv:\n",
    "    df.to_pickle(name+\".csv\") "
   ]
  }
 ],
 "metadata": {
  "kernelspec": {
   "display_name": "Python 3",
   "language": "python",
   "name": "python3"
  },
  "language_info": {
   "codemirror_mode": {
    "name": "ipython",
    "version": 3
   },
   "file_extension": ".py",
   "mimetype": "text/x-python",
   "name": "python",
   "nbconvert_exporter": "python",
   "pygments_lexer": "ipython3",
   "version": "3.6.9"
  }
 },
 "nbformat": 4,
 "nbformat_minor": 4
}
